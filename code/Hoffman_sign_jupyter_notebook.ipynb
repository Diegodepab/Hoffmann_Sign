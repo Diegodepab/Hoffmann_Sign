{
  "nbformat": 4,
  "nbformat_minor": 0,
  "metadata": {
    "colab": {
      "provenance": []
    },
    "kernelspec": {
      "name": "python3",
      "display_name": "Python 3"
    },
    "language_info": {
      "name": "python"
    }
  },
  "cells": [
    {
      "cell_type": "markdown",
      "source": [
        "# **Hoffmann’s sign**\n",
        "\n",
        "Este trabajo es parte de mi roceso de aprendizaje en la asignatura de Biología en sistemas puede encontrar toda la información en [el repositorio Github](https://github.com/Diegodepab/project_template)\n",
        "\n",
        "## DescargarDatos de HPO\n",
        "\n",
        "función que busca genes asociados a un fenotipo específico utilizando la API de HPO"
      ],
      "metadata": {
        "id": "06a0L2rToFGw"
      }
    },
    {
      "cell_type": "code",
      "execution_count": 1,
      "metadata": {
        "colab": {
          "base_uri": "https://localhost:8080/"
        },
        "id": "9jBxNPLLnMc5",
        "outputId": "dc07d7ed-6ee8-4f31-b171-175c04e608ca"
      },
      "outputs": [
        {
          "output_type": "stream",
          "name": "stdout",
          "text": [
            "Data successfully downloaded to genes.tsv\n",
            "Data successfully downloaded to diseases.tsv\n"
          ]
        }
      ],
      "source": [
        "import requests\n",
        "\n",
        "# URL base del HPO\n",
        "HPO=\"HP:0031993\"\n",
        "HPO_GENES=f\"https://ontology.jax.org/api/network/annotation/{HPO}/download/gene\"\n",
        "HPO_DISEASES=f\"https://ontology.jax.org/api/network/annotation/{HPO}/download/disease\"\n",
        "\n",
        "def download_data(url, filename):\n",
        "    response = requests.get(url)\n",
        "    if response.status_code == 200:\n",
        "        with open(filename, 'wb') as file:\n",
        "            file.write(response.content)\n",
        "        print(f\"Data successfully downloaded to {filename}\")\n",
        "    else:\n",
        "        print(f\"Failed to download data. Status code: {response.status_code}\")\n",
        "\n",
        "# Descargar genes y enfermedades\n",
        "download_data(HPO_GENES, \"genes.tsv\")\n",
        "download_data(HPO_DISEASES, \"diseases.tsv\")"
      ]
    }
  ]
}